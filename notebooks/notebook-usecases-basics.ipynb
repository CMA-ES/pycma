{
 "cells": [
  {
   "cell_type": "code",
   "execution_count": 1,
   "metadata": {},
   "outputs": [],
   "source": [
    "%matplotlib inline\n",
    "# alternatively: widget, if installed and working, gives nicer inline plots\n",
    "# %pylab widget\n",
    "# fix failing variable completion:\n",
    "# %config Completer.use_jedi = False"
   ]
  },
  {
   "cell_type": "markdown",
   "metadata": {},
   "source": [
    "# First, Simplest Usecase\n",
    "\n",
    "Let's optimize a simple ellipsoid function, $\\sum_{i=1}^n 1000^{\\frac{i-1}{n-1}}x_i^2$, whose Hessian has a condition number of $10^6$:"
   ]
  },
  {
   "cell_type": "code",
   "execution_count": 2,
   "metadata": {},
   "outputs": [
    {
     "name": "stdout",
     "output_type": "stream",
     "text": [
      "(4_w,8)-aCMA-ES (mu_w=2.6,w_1=52%) in dimension 4 (seed=916991, Mon Dec  6 16:20:18 2021)\n",
      "Iterat #Fevals   function value  axis ratio  sigma  min&max std  t[m:s]\n",
      "    1      8 1.627558087278906e+05 1.0e+00 1.02e+00  1e+00  1e+00 0:00.0\n",
      "    2     16 1.113885569713139e+05 1.3e+00 9.68e-01  9e-01  1e+00 0:00.0\n",
      "    3     24 1.236023557505223e+05 1.3e+00 8.86e-01  7e-01  1e+00 0:00.0\n",
      "  100    800 2.047733508270783e-02 5.6e+02 7.35e-02  2e-04  9e-02 0:00.1\n",
      "  200   1600 7.364161834974983e-15 8.2e+02 2.33e-06  6e-11  5e-08 0:00.2\n",
      "termination on tolfun=1e-11 (Mon Dec  6 16:20:19 2021)\n",
      "final/bestever f-value = 2.191368e-15 2.191368e-15\n",
      "incumbent solution: [1.2162853398733964e-08, 3.5042136503204363e-09, -2.1603579683067802e-10, 1.8675297805320814e-11]\n",
      "std deviation: [5.036667477332108e-08, 5.824321564766107e-09, 6.312816057683408e-10, 6.473395280007542e-11]\n"
     ]
    }
   ],
   "source": [
    "import cma\n",
    "\n",
    "fun = cma.ff.elli  # we could use `functools.partial(cma.ff.elli, cond=1e4)` to change the condition number to 1e4\n",
    "x0 = 4 * [2]  # initial solution\n",
    "sigma0 = 1    # initial standard deviation to sample new solutions\n",
    "\n",
    "x, es = cma.fmin2(fun, x0, sigma0)"
   ]
  },
  {
   "cell_type": "markdown",
   "metadata": {},
   "source": [
    "The return values are\n",
    "- `x`, the best evaluted solution and\n",
    "- `es`, the `cma.CMAEvolutionStrategy` class instance used to run the optimization.\n",
    "\n",
    "The latter contains all available information about the run and the more complete return value under `es.result`."
   ]
  },
  {
   "cell_type": "code",
   "execution_count": 3,
   "metadata": {},
   "outputs": [
    {
     "data": {
      "text/plain": [
       "CMAEvolutionStrategyResult(xbest=array([ 1.21628534e-08,  3.50421365e-09, -2.16035797e-10,  1.86752978e-11]), fbest=2.1913677367483816e-15, evals_best=1601, evaluations=1601, iterations=200, xfavorite=array([ 1.21628534e-08,  3.50421365e-09, -2.16035797e-10,  1.86752978e-11]), stds=array([5.03666748e-08, 5.82432156e-09, 6.31281606e-10, 6.47339528e-11]), stop={'tolfun': 1e-11})"
      ]
     },
     "execution_count": 3,
     "metadata": {},
     "output_type": "execute_result"
    }
   ],
   "source": [
    "es.result"
   ]
  },
  {
   "cell_type": "code",
   "execution_count": 4,
   "metadata": {},
   "outputs": [
    {
     "name": "stdout",
     "output_type": "stream",
     "text": [
      "termination on tolfun=1e-11\n",
      "final/bestever f-value = 2.191368e-15 2.191368e-15\n",
      "incumbent solution: [1.2162853398733964e-08, 3.5042136503204363e-09, -2.1603579683067802e-10, 1.8675297805320814e-11]\n",
      "std deviation: [5.036667477332108e-08, 5.824321564766107e-09, 6.312816057683408e-10, 6.473395280007542e-11]\n"
     ]
    },
    {
     "data": {
      "text/plain": [
       "CMAEvolutionStrategyResult(xbest=array([ 1.21628534e-08,  3.50421365e-09, -2.16035797e-10,  1.86752978e-11]), fbest=2.1913677367483816e-15, evals_best=1601, evaluations=1601, iterations=200, xfavorite=array([ 1.21628534e-08,  3.50421365e-09, -2.16035797e-10,  1.86752978e-11]), stds=array([5.03666748e-08, 5.82432156e-09, 6.31281606e-10, 6.47339528e-11]), stop={'tolfun': 1e-11})"
      ]
     },
     "execution_count": 4,
     "metadata": {},
     "output_type": "execute_result"
    }
   ],
   "source": [
    "es.result_pretty()  # shows some pretty information and returns es.result"
   ]
  },
  {
   "cell_type": "markdown",
   "metadata": {},
   "source": [
    "# Options and Plotting\n",
    "Let's plot some data from the optimization. The above call to `cma.fmin2` has (by default) written data to the default output folder `outcmaes`. These data will be overwritten each time the function is called again. To prevent this, we could set/change the output folder with the `verb_filenameprefix` option. A effective way to find out this kind of behavior is to query the CMA options with a search string and read the comments in the return \"value\"."
   ]
  },
  {
   "cell_type": "code",
   "execution_count": 5,
   "metadata": {},
   "outputs": [
    {
     "data": {
      "text/plain": [
       "{'signals_filename': 'cma_signals.in  # read versatile options from this file (use `None` or `\"\"` for no file) which contains a single options dict, e.g. ``{\"timeout\": 0}`` to stop, string-values are evaluated, e.g. \"np.inf\" is valid',\n",
       " 'verb_append': '0  # initial evaluation counter, if append, do not overwrite output files',\n",
       " 'verb_filenameprefix': 'outcmaes/  # output path and filenames prefix',\n",
       " 'verb_log': '1  #v verbosity: write data to files every verb_log iteration, writing can be time critical on fast to evaluate functions'}"
      ]
     },
     "execution_count": 5,
     "metadata": {},
     "output_type": "execute_result"
    }
   ],
   "source": [
    "cma.CMAOptions('file')"
   ]
  },
  {
   "cell_type": "markdown",
   "metadata": {},
   "source": [
    "Plotting is as simple as"
   ]
  },
  {
   "cell_type": "code",
   "execution_count": 6,
   "metadata": {},
   "outputs": [
    {
     "data": {
      "application/vnd.jupyter.widget-view+json": {
       "model_id": "563d014db2134913ae1149824508f6c2",
       "version_major": 2,
       "version_minor": 0
      },
      "text/plain": [
       "Canvas(toolbar=Toolbar(toolitems=[('Home', 'Reset original view', 'home', 'home'), ('Back', 'Back to previous …"
      ]
     },
     "metadata": {},
     "output_type": "display_data"
    }
   ],
   "source": [
    "%matplotlib widget\n",
    "es.plot();  # cma.plot() does the same, as we just plot the data from the default output folder"
   ]
  },
  {
   "cell_type": "markdown",
   "metadata": {},
   "source": [
    "A description of the output is given in the caption of Figure 3 in [Hansen et al (2015): Evolution Strategies](https://hal.inria.fr/hal-01155533/file/es-overview-2015.pdf#page=17)."
   ]
  },
  {
   "cell_type": "markdown",
   "metadata": {},
   "source": [
    "# Options and Bound Constraints\n",
    "We can add a boundary condition on any variable. We can find out how to do this, as mentioned above, by investigating the available boundary related options:"
   ]
  },
  {
   "cell_type": "code",
   "execution_count": 7,
   "metadata": {},
   "outputs": [
    {
     "data": {
      "text/plain": [
       "{'BoundaryHandler': 'BoundTransform  # or BoundPenalty, unused when ``bounds in (None, [None, None])``',\n",
       " 'bounds': '[None, None]  # lower (=bounds[0]) and upper domain boundaries, each a scalar or a list/vector'}"
      ]
     },
     "execution_count": 7,
     "metadata": {},
     "output_type": "execute_result"
    }
   ],
   "source": [
    "cma.CMAOptions('bound')  # returns options that contain \"bound\""
   ]
  },
  {
   "cell_type": "markdown",
   "metadata": {},
   "source": [
    "Let's bound the second variable from below to values $\\ge1$ using the `'bounds'` option. In this case, we must also take care that the initial solution is within the given bounds (it is, in our case). `'bounds'` is a list of two values, `[lower_bounds, upper_bounds]`, where `lower_bounds` and `upper_bounds` can be a scalar that applies to all variables or a list. If the list is shorter than the initial solution, the last value is applied to the remaining dimensions."
   ]
  },
  {
   "cell_type": "code",
   "execution_count": 8,
   "metadata": {},
   "outputs": [
    {
     "name": "stdout",
     "output_type": "stream",
     "text": [
      "(4_w,8)-aCMA-ES (mu_w=2.6,w_1=52%) in dimension 4 (seed=843583, Mon Dec  6 16:20:21 2021)\n",
      "Iterat #Fevals   function value  axis ratio  sigma  min&max std  t[m:s]\n",
      "    1      8 3.350768421831981e+05 1.0e+00 1.01e+00  1e+00  1e+00 0:00.0\n",
      "    2     16 2.008930978755744e+05 1.2e+00 1.11e+00  1e+00  1e+00 0:00.0\n",
      "    3     24 8.328670663162784e+04 1.6e+00 1.15e+00  1e+00  1e+00 0:00.0\n",
      "  100    800 1.000005270650480e+02 6.1e+02 1.06e-02  2e-05  1e-02 0:00.1\n",
      "  183   1464 9.999999999999997e+01 1.2e+03 1.18e-06  5e-11  5e-08 0:00.2\n",
      "termination on tolfun=1e-11 (Mon Dec  6 16:20:21 2021)\n",
      "final/bestever f-value = 1.000000e+02 1.000000e+02\n",
      "incumbent solution: [-2.8111802702419823e-08, 1.0, 2.7004925912948e-10, -3.440019505637813e-11]\n",
      "std deviation: [5.313228101255525e-08, 2.237375396275545e-09, 4.847367062276775e-10, 4.676257410886614e-11]\n"
     ]
    }
   ],
   "source": [
    "x, es = cma.fmin2(fun, x0, sigma0, {'bounds': [[None, 1, None], None]})"
   ]
  },
  {
   "cell_type": "code",
   "execution_count": 11,
   "metadata": {},
   "outputs": [
    {
     "data": {
      "application/vnd.jupyter.widget-view+json": {
       "model_id": "1402a3012c97465e831fdecaca0565e5",
       "version_major": 2,
       "version_minor": 0
      },
      "text/plain": [
       "Canvas(toolbar=Toolbar(toolitems=[('Home', 'Reset original view', 'home', 'home'), ('Back', 'Back to previous …"
      ]
     },
     "metadata": {},
     "output_type": "display_data"
    }
   ],
   "source": [
    "%matplotlib widget\n",
    "es.plot();"
   ]
  },
  {
   "cell_type": "code",
   "execution_count": 12,
   "metadata": {},
   "outputs": [
    {
     "data": {
      "application/vnd.jupyter.widget-view+json": {
       "model_id": "cb42b9d91c7943518cbd2d9f797152ed",
       "version_major": 2,
       "version_minor": 0
      },
      "text/plain": [
       "Canvas(toolbar=Toolbar(toolitems=[('Home', 'Reset original view', 'home', 'home'), ('Back', 'Back to previous …"
      ]
     },
     "metadata": {},
     "output_type": "display_data"
    }
   ],
   "source": [
    "%matplotlib widget\n",
    "es.plot(xsemilog=True, x_opt=[0, 1] + (len(x0) - 2) * [0]);"
   ]
  },
  {
   "cell_type": "markdown",
   "metadata": {},
   "source": [
    "Other [`notebooks and recipes`](https://github.com/CMA-ES/pycma/notebooks), as this one, can be found at [https://github.com/CMA-ES/pycma/notebooks](https://github.com/CMA-ES/pycma/notebooks)"
   ]
  },
  {
   "cell_type": "markdown",
   "metadata": {},
   "source": [
    "More `notebook-recipes` to come..."
   ]
  },
  {
   "cell_type": "markdown",
   "metadata": {},
   "source": []
  }
 ],
 "metadata": {
  "interpreter": {
   "hash": "d63c44124e99970b36478bac7366f7234ff1cfabe1191de4da3d5c25c8ed9e11"
  },
  "kernelspec": {
   "display_name": "Python 3.7.6 64-bit ('base': conda)",
   "language": "python",
   "name": "python3"
  },
  "language_info": {
   "codemirror_mode": {
    "name": "ipython",
    "version": 3
   },
   "file_extension": ".py",
   "mimetype": "text/x-python",
   "name": "python",
   "nbconvert_exporter": "python",
   "pygments_lexer": "ipython3",
   "version": "3.7.6"
  },
  "orig_nbformat": 4
 },
 "nbformat": 4,
 "nbformat_minor": 2
}
